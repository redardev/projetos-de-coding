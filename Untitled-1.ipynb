{
 "cells": [
  {
   "cell_type": "code",
   "execution_count": 40,
   "metadata": {},
   "outputs": [
    {
     "name": "stdout",
     "output_type": "stream",
     "text": [
      "dale boy\n",
      "bernardo , 32 , adulto\n"
     ]
    }
   ],
   "source": [
    "print(\"dale boy\")\n",
    "idade = 32\n",
    "nome = 'bernardo'\n",
    "if idade >=18 :print(nome, ',', idade, ',', \"adulto\")\n",
    "if idade < 18 :print(nome,',', idade,',', \"criança\")"
   ]
  },
  {
   "cell_type": "code",
   "execution_count": 41,
   "metadata": {},
   "outputs": [
    {
     "name": "stdout",
     "output_type": "stream",
     "text": [
      "eai boy\n",
      "Olá, sou Nicolas , sou GM no lol\n"
     ]
    }
   ],
   "source": [
    "print (\"eai boy\")\n",
    "idade =17\n",
    "nome = 'Nicolas'\n",
    "elo = 'GM'\n",
    "print(\"Olá, sou\",nome,\",\",\"sou\",  elo, \"no lol\") "
   ]
  },
  {
   "cell_type": "code",
   "execution_count": 43,
   "metadata": {},
   "outputs": [
    {
     "name": "stdout",
     "output_type": "stream",
     "text": [
      "bernardo 17 1.82 True uma coxinha e uma coca\n"
     ]
    }
   ],
   "source": [
    "pessoa = 'bernardo'\n",
    "idade= 17\n",
    "altura= 1.82\n",
    "desenvolvedor= True\n",
    "Salario = \"uma coxinha e uma coca\"\n",
    "print(pessoa, idade, altura, desenvolvedor, Salario)"
   ]
  }
 ],
 "metadata": {
  "kernelspec": {
   "display_name": "venv",
   "language": "python",
   "name": "python3"
  },
  "language_info": {
   "name": "python",
   "version": "3.10.8"
  }
 },
 "nbformat": 4,
 "nbformat_minor": 2
}
