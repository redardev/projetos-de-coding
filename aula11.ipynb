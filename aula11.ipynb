{
 "cells": [
  {
   "cell_type": "code",
   "execution_count": 4,
   "metadata": {},
   "outputs": [
    {
     "data": {
      "text/plain": [
       "['Cibele', 'Maria', 'Suely']"
      ]
     },
     "execution_count": 4,
     "metadata": {},
     "output_type": "execute_result"
    }
   ],
   "source": [
    "'''\n",
    "def funcaoLeitura():\n",
    "    for num in[1,2,3,4,5,]:\n",
    "        print('Número', num)\n",
    "def funcaoLeitura():\n",
    "    for num in range(5):\n",
    "        print('Número', num)'''\n",
    "\n",
    "#Função para somar dois numeros\n",
    "'''def addNum(n1,n2):\n",
    "    print('O primeiro numero é: ', n1)\n",
    "    print('O segundo numero é: ', n2)\n",
    "    print('A soma dos numeros é: ', n1+n2)\n",
    "'''\n",
    "\n",
    "'''\n",
    "varGlobal = 10 #essa e uma variavel global\n",
    "def multiplicacao(num1,num2):\n",
    "    #apesar do mesmo nome, é uma variavel local:\n",
    "    varGlobal = (num1 * num2)\n",
    "    print('Variável da função multiplica: ', varGlobal)\n",
    "        \n",
    "multiplicacao(5, 4)\n",
    "print(varGlobal)'''    \n",
    "\n",
    "\n",
    "'''varGlobal = 10 #essa é a variavel global\n",
    "def multiplica(num1, num2):\n",
    "    varLocal = num1 * num2 #essa é a variavel local\n",
    "    print('variavel da função multiplica: ', varLocal)\n",
    "    print(varLocal)'''\n",
    "\n",
    "\n",
    "def separarTexto(texto):\n",
    "    return texto.split()\n",
    "separarTexto('Cibele Maria Suely')"
   ]
  },
  {
   "cell_type": "code",
   "execution_count": 5,
   "metadata": {},
   "outputs": [],
   "source": [
    "def variosParametros(*parametros):\n",
    "    for n, item in enumerate(parametros):\n",
    "        print('Parâmetro', n, item)\n",
    "    return    "
   ]
  },
  {
   "cell_type": "code",
   "execution_count": 6,
   "metadata": {},
   "outputs": [
    {
     "name": "stdout",
     "output_type": "stream",
     "text": [
      "Parâmetro 0 cibele\n",
      "Parâmetro 1 suely\n",
      "Parâmetro 2 giggio\n",
      "Parâmetro 3 madá\n",
      "Parâmetro 4 luquinhas\n"
     ]
    }
   ],
   "source": [
    "variosParametros('cibele', 'suely', 'giggio', 'madá', 'luquinhas')"
   ]
  },
  {
   "cell_type": "code",
   "execution_count": 7,
   "metadata": {},
   "outputs": [
    {
     "name": "stdout",
     "output_type": "stream",
     "text": [
      "Parâmetro 0 pitomba\n",
      "Parâmetro 1 jambo\n",
      "Parâmetro 2 siriguela\n",
      "Parâmetro 3 umbu\n"
     ]
    }
   ],
   "source": [
    "variosParametros('pitomba', 'jambo', 'siriguela', 'umbu')"
   ]
  },
  {
   "cell_type": "code",
   "execution_count": 8,
   "metadata": {},
   "outputs": [],
   "source": [
    "def soma(n1,n2):\n",
    "    return n1+n2\n",
    "def subtrai(n1,n2):\n",
    "    return n1-n2\n",
    "def divide(n1,n2):\n",
    "    return n1/n2\n",
    "def multiplica(n1,n2):\n",
    "    return n1*n2\n",
    "    "
   ]
  },
  {
   "cell_type": "code",
   "execution_count": null,
   "metadata": {},
   "outputs": [],
   "source": []
  },
  {
   "cell_type": "code",
   "execution_count": 12,
   "metadata": {},
   "outputs": [
    {
     "name": "stdout",
     "output_type": "stream",
     "text": [
      "+==================+\n",
      "| MENU DE OPERAÇÕES\n",
      "|  1 - somar       \n",
      "|  2 - subtrair    \n",
      "|  3 - multiplicar \n",
      "|  4 - divisão     \n",
      "|  0 - sair        \n",
      "+==================+\n",
      "O resultado da multiplicação é:  45\n",
      "+==================+\n",
      "| MENU DE OPERAÇÕES\n",
      "|  1 - somar       \n",
      "|  2 - subtrair    \n",
      "|  3 - multiplicar \n",
      "|  4 - divisão     \n",
      "|  0 - sair        \n",
      "+==================+\n"
     ]
    }
   ],
   "source": [
    "while True:\n",
    "    print('+==================+')\n",
    "    print('| MENU DE OPERAÇÕES')\n",
    "    print('|  1 - somar       ')\n",
    "    print('|  2 - subtrair    ')\n",
    "    print('|  3 - multiplicar ')\n",
    "    print('|  4 - divisão     ')\n",
    "    print('|  0 - sair        ')\n",
    "    print('+==================+')\n",
    "\n",
    "    op = int(input())\n",
    "    if op==0:\n",
    "        break\n",
    "    n1 = int(input('Primeiro Número: '))\n",
    "    n2 = int(input('Segundo Número'))\n",
    "    if op==1:\n",
    "        print('O resultado da soma é: ',soma(n1,n2))\n",
    "    elif op==2:\n",
    "        print('O resultado da subtração é: ', subtrai(n1,n2))\n",
    "    elif op==3:\n",
    "        print('O resultado da multiplicação é: ', multiplica(n1,n2))\n",
    "    elif op==4:\n",
    "        print('O resultado da divisão é: ', divide(n1,n2))\n",
    "                    "
   ]
  }
 ],
 "metadata": {
  "kernelspec": {
   "display_name": "Python 3",
   "language": "python",
   "name": "python3"
  },
  "language_info": {
   "codemirror_mode": {
    "name": "ipython",
    "version": 3
   },
   "file_extension": ".py",
   "mimetype": "text/x-python",
   "name": "python",
   "nbconvert_exporter": "python",
   "pygments_lexer": "ipython3",
   "version": "3.10.8"
  }
 },
 "nbformat": 4,
 "nbformat_minor": 2
}
